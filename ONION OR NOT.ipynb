{
 "cells": [
  {
   "cell_type": "markdown",
   "metadata": {},
   "source": [
    "ONION OR NOT\n",
    "\n",
    "Dataset of The Onion articles and real \"Onion-like\" news articles from the subreddit r/NotTheOnion. The Onion articles are labeled 1 and the r/NotTheOnion articles are labeled 0."
   ]
  },
  {
   "cell_type": "markdown",
   "metadata": {},
   "source": [
    "1) IMPORTING LIBRARIES\n",
    "\n"
   ]
  },
  {
   "cell_type": "code",
   "execution_count": 1,
   "metadata": {
    "_cell_guid": "b1076dfc-b9ad-4769-8c92-a6c4dae69d19",
    "_uuid": "8f2839f25d086af736a60e9eeb907d3b93b6e0e5"
   },
   "outputs": [
    {
     "name": "stderr",
     "output_type": "stream",
     "text": [
      "Using TensorFlow backend.\n"
     ]
    }
   ],
   "source": [
    "import pandas as pd\n",
    "import numpy as np\n",
    "import tensorflow as tf\n",
    "from tensorflow import keras\n",
    "import os\n",
    "import csv\n",
    "from keras.preprocessing.text import Tokenizer\n",
    "from keras.preprocessing.sequence import pad_sequences\n",
    "from sklearn.model_selection import train_test_split\n",
    "import matplotlib.pyplot as plt"
   ]
  },
  {
   "cell_type": "markdown",
   "metadata": {},
   "source": [
    "2) DATA PREPROCESSING"
   ]
  },
  {
   "cell_type": "code",
   "execution_count": 2,
   "metadata": {
    "_cell_guid": "79c7e3d0-c299-4dcb-8224-4455121ee9b0",
    "_uuid": "d629ff2d2480ee46fbb7e2d37f6b5fab8052498a"
   },
   "outputs": [
    {
     "data": {
      "text/html": [
       "<div>\n",
       "<style scoped>\n",
       "    .dataframe tbody tr th:only-of-type {\n",
       "        vertical-align: middle;\n",
       "    }\n",
       "\n",
       "    .dataframe tbody tr th {\n",
       "        vertical-align: top;\n",
       "    }\n",
       "\n",
       "    .dataframe thead th {\n",
       "        text-align: right;\n",
       "    }\n",
       "</style>\n",
       "<table border=\"1\" class=\"dataframe\">\n",
       "  <thead>\n",
       "    <tr style=\"text-align: right;\">\n",
       "      <th></th>\n",
       "      <th>text</th>\n",
       "      <th>label</th>\n",
       "    </tr>\n",
       "  </thead>\n",
       "  <tbody>\n",
       "    <tr>\n",
       "      <th>0</th>\n",
       "      <td>Entire Facebook Staff Laughs As Man Tightens P...</td>\n",
       "      <td>1</td>\n",
       "    </tr>\n",
       "    <tr>\n",
       "      <th>1</th>\n",
       "      <td>Muslim Woman Denied Soda Can for Fear She Coul...</td>\n",
       "      <td>0</td>\n",
       "    </tr>\n",
       "    <tr>\n",
       "      <th>2</th>\n",
       "      <td>Bold Move: Hulu Has Announced That They’re Gon...</td>\n",
       "      <td>1</td>\n",
       "    </tr>\n",
       "    <tr>\n",
       "      <th>3</th>\n",
       "      <td>Despondent Jeff Bezos Realizes He’ll Have To W...</td>\n",
       "      <td>1</td>\n",
       "    </tr>\n",
       "    <tr>\n",
       "      <th>4</th>\n",
       "      <td>For men looking for great single women, online...</td>\n",
       "      <td>1</td>\n",
       "    </tr>\n",
       "  </tbody>\n",
       "</table>\n",
       "</div>"
      ],
      "text/plain": [
       "                                                text  label\n",
       "0  Entire Facebook Staff Laughs As Man Tightens P...      1\n",
       "1  Muslim Woman Denied Soda Can for Fear She Coul...      0\n",
       "2  Bold Move: Hulu Has Announced That They’re Gon...      1\n",
       "3  Despondent Jeff Bezos Realizes He’ll Have To W...      1\n",
       "4  For men looking for great single women, online...      1"
      ]
     },
     "execution_count": 2,
     "metadata": {},
     "output_type": "execute_result"
    }
   ],
   "source": [
    "data=pd.read_csv('../input/onion-or-not/OnionOrNot.csv')\n",
    "data.head()"
   ]
  },
  {
   "cell_type": "code",
   "execution_count": 3,
   "metadata": {},
   "outputs": [],
   "source": [
    "sentence = data['text'].values.tolist()\n",
    "result= data['label'].values.tolist()"
   ]
  },
  {
   "cell_type": "markdown",
   "metadata": {},
   "source": [
    "3) TRAIN-TEST SPLIT"
   ]
  },
  {
   "cell_type": "code",
   "execution_count": 4,
   "metadata": {},
   "outputs": [],
   "source": [
    "X_train, X_test, Y_train,Y_test= train_test_split(sentence, result, test_size=0.2)"
   ]
  },
  {
   "cell_type": "code",
   "execution_count": 5,
   "metadata": {},
   "outputs": [],
   "source": [
    "Y_train=np.array(Y_train)\n",
    "Y_test=np.array(Y_test)"
   ]
  },
  {
   "cell_type": "markdown",
   "metadata": {},
   "source": [
    "4) NLP TECHNIQUES"
   ]
  },
  {
   "cell_type": "code",
   "execution_count": 27,
   "metadata": {},
   "outputs": [],
   "source": [
    "tokenizer=Tokenizer(num_words=5000, oov_token='<OOV>')\n",
    "tokenizer.fit_on_texts(X_train)\n",
    "word_index=tokenizer.word_index\n",
    "sequences=tokenizer.texts_to_sequences(X_train)\n",
    "padded_train=pad_sequences(sequences,250,truncating='post')"
   ]
  },
  {
   "cell_type": "code",
   "execution_count": 28,
   "metadata": {},
   "outputs": [],
   "source": [
    "sequences_test=tokenizer.texts_to_sequences(X_test)\n",
    "padded_test=pad_sequences(sequences_test,250,truncating='post')"
   ]
  },
  {
   "cell_type": "code",
   "execution_count": 29,
   "metadata": {},
   "outputs": [
    {
     "name": "stdout",
     "output_type": "stream",
     "text": [
      "(19200, 250)\n",
      "(4800, 250)\n",
      "(19200,)\n",
      "(4800,)\n"
     ]
    }
   ],
   "source": [
    "print(padded_train.shape)\n",
    "print(padded_test.shape)\n",
    "print(Y_train.shape)\n",
    "print(Y_test.shape)"
   ]
  },
  {
   "cell_type": "markdown",
   "metadata": {},
   "source": [
    "5) CONVOLUTIONAL NEURAL NETWORK"
   ]
  },
  {
   "cell_type": "code",
   "execution_count": 35,
   "metadata": {},
   "outputs": [],
   "source": [
    "model= tf.keras.Sequential([\n",
    "    tf.keras.layers.Embedding(5000,16,input_length=250),\n",
    "    tf.keras.layers.Flatten(),\n",
    "    tf.keras.layers.Dense(6, activation='relu'),\n",
    "    tf.keras.layers.Dense(1,activation='sigmoid')\n",
    "])"
   ]
  },
  {
   "cell_type": "code",
   "execution_count": 36,
   "metadata": {},
   "outputs": [
    {
     "name": "stdout",
     "output_type": "stream",
     "text": [
      "Model: \"sequential_3\"\n",
      "_________________________________________________________________\n",
      "Layer (type)                 Output Shape              Param #   \n",
      "=================================================================\n",
      "embedding_3 (Embedding)      (None, 250, 16)           80000     \n",
      "_________________________________________________________________\n",
      "flatten_3 (Flatten)          (None, 4000)              0         \n",
      "_________________________________________________________________\n",
      "dense_6 (Dense)              (None, 6)                 24006     \n",
      "_________________________________________________________________\n",
      "dense_7 (Dense)              (None, 1)                 7         \n",
      "=================================================================\n",
      "Total params: 104,013\n",
      "Trainable params: 104,013\n",
      "Non-trainable params: 0\n",
      "_________________________________________________________________\n"
     ]
    }
   ],
   "source": [
    "model.compile(loss='binary_crossentropy', optimizer='adam', metrics=['accuracy'])\n",
    "model.summary()"
   ]
  },
  {
   "cell_type": "code",
   "execution_count": 37,
   "metadata": {},
   "outputs": [
    {
     "name": "stdout",
     "output_type": "stream",
     "text": [
      "Train on 19200 samples, validate on 4800 samples\n",
      "Epoch 1/15\n",
      "19200/19200 [==============================] - 4s 188us/sample - loss: 0.5091 - accuracy: 0.7483 - val_loss: 0.3598 - val_accuracy: 0.8402\n",
      "Epoch 2/15\n",
      "19200/19200 [==============================] - 3s 173us/sample - loss: 0.2794 - accuracy: 0.8839 - val_loss: 0.3304 - val_accuracy: 0.8602\n",
      "Epoch 3/15\n",
      "19200/19200 [==============================] - 3s 158us/sample - loss: 0.1938 - accuracy: 0.9261 - val_loss: 0.3429 - val_accuracy: 0.8575\n",
      "Epoch 4/15\n",
      "19200/19200 [==============================] - 3s 162us/sample - loss: 0.1310 - accuracy: 0.9549 - val_loss: 0.3846 - val_accuracy: 0.8477\n",
      "Epoch 5/15\n",
      "19200/19200 [==============================] - 4s 187us/sample - loss: 0.0795 - accuracy: 0.9770 - val_loss: 0.4391 - val_accuracy: 0.8421\n",
      "Epoch 6/15\n",
      "19200/19200 [==============================] - 3s 179us/sample - loss: 0.0440 - accuracy: 0.9907 - val_loss: 0.5003 - val_accuracy: 0.8396\n",
      "Epoch 7/15\n",
      "19200/19200 [==============================] - 3s 173us/sample - loss: 0.0235 - accuracy: 0.9961 - val_loss: 0.5656 - val_accuracy: 0.8375\n",
      "Epoch 8/15\n",
      "19200/19200 [==============================] - 3s 164us/sample - loss: 0.0128 - accuracy: 0.9981 - val_loss: 0.6413 - val_accuracy: 0.8388\n",
      "Epoch 9/15\n",
      "19200/19200 [==============================] - 3s 164us/sample - loss: 0.0079 - accuracy: 0.9987 - val_loss: 0.6975 - val_accuracy: 0.8352\n",
      "Epoch 10/15\n",
      "19200/19200 [==============================] - 3s 161us/sample - loss: 0.0047 - accuracy: 0.9994 - val_loss: 0.7458 - val_accuracy: 0.8323\n",
      "Epoch 11/15\n",
      "19200/19200 [==============================] - 3s 173us/sample - loss: 0.0040 - accuracy: 0.9994 - val_loss: 0.8138 - val_accuracy: 0.8356\n",
      "Epoch 12/15\n",
      "19200/19200 [==============================] - 3s 175us/sample - loss: 0.0033 - accuracy: 0.9994 - val_loss: 0.8505 - val_accuracy: 0.8333\n",
      "Epoch 13/15\n",
      "19200/19200 [==============================] - 3s 172us/sample - loss: 0.0027 - accuracy: 0.9995 - val_loss: 0.9110 - val_accuracy: 0.8288\n",
      "Epoch 14/15\n",
      "19200/19200 [==============================] - 3s 157us/sample - loss: 0.0018 - accuracy: 0.9995 - val_loss: 0.9865 - val_accuracy: 0.8263\n",
      "Epoch 15/15\n",
      "19200/19200 [==============================] - 3s 163us/sample - loss: 0.0023 - accuracy: 0.9995 - val_loss: 1.0097 - val_accuracy: 0.8267\n"
     ]
    }
   ],
   "source": [
    "history=model.fit(padded_train, Y_train, epochs=15, validation_data=(padded_test, Y_test))"
   ]
  },
  {
   "cell_type": "code",
   "execution_count": 38,
   "metadata": {},
   "outputs": [
    {
     "data": {
      "image/png": "[encoded data removed]",
      "text/plain": [
       "<Figure size 432x288 with 1 Axes>"
      ]
     },
     "metadata": {
      "needs_background": "light"
     },
     "output_type": "display_data"
    },
    {
     "data": {
      "image/png": "[encoded data removed]",
      "text/plain": [
       "<Figure size 432x288 with 1 Axes>"
      ]
     },
     "metadata": {
      "needs_background": "light"
     },
     "output_type": "display_data"
    }
   ],
   "source": [
    "acc = history.history['accuracy']\n",
    "val_acc = history.history['val_accuracy']\n",
    "loss = history.history['loss']\n",
    "val_loss = history.history['val_loss']\n",
    "epochs = range(len(acc))\n",
    "\n",
    "plt.plot(epochs, acc, 'r', label='Training accuracy')\n",
    "plt.plot(epochs, val_acc, 'b', label='Validation accuracy')\n",
    "plt.title('Training and validation accuracy')\n",
    "plt.legend()\n",
    "plt.figure()\n",
    "\n",
    "plt.plot(epochs, loss, 'r', label='Training Loss')\n",
    "plt.plot(epochs, val_loss, 'b', label='Validation Loss')\n",
    "plt.title('Training and validation loss')\n",
    "plt.legend()\n",
    "\n",
    "plt.show()"
   ]
  },
  {
   "cell_type": "code",
   "execution_count": null,
   "metadata": {},
   "outputs": [],
   "source": []
  }
 ],
 "metadata": {
  "kernelspec": {
   "display_name": "Python 3",
   "language": "python",
   "name": "python3"
  },
  "language_info": {
   "codemirror_mode": {
    "name": "ipython",
    "version": 3
   },
   "file_extension": ".py",
   "mimetype": "text/x-python",
   "name": "python",
   "nbconvert_exporter": "python",
   "pygments_lexer": "ipython3",
   "version": "3.6.5"
  }
 },
 "nbformat": 4,
 "nbformat_minor": 4
}
